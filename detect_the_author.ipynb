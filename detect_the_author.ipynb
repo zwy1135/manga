{
 "cells": [
  {
   "cell_type": "code",
   "execution_count": 1,
   "metadata": {},
   "outputs": [],
   "source": [
    "%matplotlib inline"
   ]
  },
  {
   "cell_type": "code",
   "execution_count": 2,
   "metadata": {},
   "outputs": [],
   "source": [
    "import os\n",
    "import imp\n",
    "import bcolz as bc\n",
    "import numpy as np"
   ]
  },
  {
   "cell_type": "code",
   "execution_count": 3,
   "metadata": {},
   "outputs": [
    {
     "name": "stderr",
     "output_type": "stream",
     "text": [
      "Using TensorFlow backend.\n"
     ]
    }
   ],
   "source": [
    "import keras\n",
    "from keras.preprocessing.image import ImageDataGenerator as IDG\n",
    "\n",
    "from keras.layers import Input, Dense, Flatten, Conv2D, BatchNormalization, AveragePooling2D, ELU, GaussianDropout, Add, GlobalAveragePooling2D, Activation\n",
    "from keras.applications.xception import Xception\n",
    "from keras.models import Model, load_model\n",
    "from keras import backend as K\n"
   ]
  },
  {
   "cell_type": "code",
   "execution_count": 4,
   "metadata": {},
   "outputs": [],
   "source": [
    "from config import config,bcolz_array_iterator\n",
    "imp.reload(config)\n",
    "imp.reload(bcolz_array_iterator)\n",
    "origin_dir = config.origin_dir\n",
    "group_dir = config.group_dir\n",
    "bcolz_dir = config.bcolz_dir\n",
    "config_dir = config.config_dir\n",
    "\n",
    "BcolzArrayIterator = bcolz_array_iterator.BcolzArrayIterator"
   ]
  },
  {
   "cell_type": "code",
   "execution_count": 5,
   "metadata": {},
   "outputs": [],
   "source": [
    "data = bc.carray(rootdir=os.path.join(bcolz_dir,\"data\"),mode=\"r\")\n",
    "labels = bc.carray(rootdir=os.path.join(bcolz_dir,\"labels\"),mode=\"r\")\n",
    "data_valid = bc.carray(rootdir=os.path.join(bcolz_dir,\"data_valid\"),mode=\"r\")\n",
    "labels_valid = bc.carray(rootdir=os.path.join(bcolz_dir,\"labels_valid\"),mode=\"r\")"
   ]
  },
  {
   "cell_type": "code",
   "execution_count": null,
   "metadata": {},
   "outputs": [],
   "source": [
    "data,labels"
   ]
  },
  {
   "cell_type": "markdown",
   "metadata": {},
   "source": [
    "from matplotlib import pyplot as plt"
   ]
  },
  {
   "cell_type": "markdown",
   "metadata": {},
   "source": [
    "a=data[12458][:]\n",
    "a=np.array(a,dtype=np.uint8)\n",
    "plt.figure(figsize=(10,10))\n",
    "plt.imshow(a)"
   ]
  },
  {
   "cell_type": "markdown",
   "metadata": {},
   "source": [
    "# buildmodel"
   ]
  },
  {
   "cell_type": "code",
   "execution_count": null,
   "metadata": {},
   "outputs": [],
   "source": []
  },
  {
   "cell_type": "code",
   "execution_count": 7,
   "metadata": {},
   "outputs": [],
   "source": [
    "def conv_block(inx,iter_num):\n",
    "    x = BatchNormalization()(inx)\n",
    "    x = Conv2D(64,(3,3),padding=\"same\")(x)\n",
    "    x = AveragePooling2D()(x)\n",
    "    x = GaussianDropout(0.2)(x)\n",
    "    x = ELU()(x)\n",
    "    \n",
    "    return x\n",
    "    "
   ]
  },
  {
   "cell_type": "code",
   "execution_count": 8,
   "metadata": {},
   "outputs": [],
   "source": [
    "model_path = os.path.join(config_dir,\"model.h5\")\n",
    "try:\n",
    "    model = load_model(model_path)\n",
    "except:\n",
    "    input_layer = Input((256,256,3))\n",
    "    #x = Xception(input_shape=(256,256,3),include_top=False,weights=None,pooling=\"avg\")(input_layer)\n",
    "    first_layer = Conv2D(10,(1,1),padding=\"same\")(input_layer)  #split channel\n",
    "\n",
    "    x = first_layer\n",
    "    for i in range(2):\n",
    "        x = conv_block(x,i)\n",
    "\n",
    "    x = Conv2D(193,(3,3),padding=\"same\")(x)\n",
    "    x = GlobalAveragePooling2D()(x)\n",
    "    \n",
    "    output_layer = Activation(\"softmax\")(x)\n",
    "\n",
    "    model = Model(input_layer,outputs=output_layer)\n",
    "\n",
    "    model.compile(\"adam\",\"categorical_crossentropy\",metrics=[\"acc\"])"
   ]
  },
  {
   "cell_type": "code",
   "execution_count": 9,
   "metadata": {},
   "outputs": [
    {
     "name": "stdout",
     "output_type": "stream",
     "text": [
      "_________________________________________________________________\n",
      "Layer (type)                 Output Shape              Param #   \n",
      "=================================================================\n",
      "input_1 (InputLayer)         (None, 256, 256, 3)       0         \n",
      "_________________________________________________________________\n",
      "conv2d_1 (Conv2D)            (None, 256, 256, 10)      40        \n",
      "_________________________________________________________________\n",
      "batch_normalization_1 (Batch (None, 256, 256, 10)      40        \n",
      "_________________________________________________________________\n",
      "conv2d_2 (Conv2D)            (None, 256, 256, 64)      5824      \n",
      "_________________________________________________________________\n",
      "average_pooling2d_1 (Average (None, 128, 128, 64)      0         \n",
      "_________________________________________________________________\n",
      "gaussian_dropout_1 (Gaussian (None, 128, 128, 64)      0         \n",
      "_________________________________________________________________\n",
      "elu_1 (ELU)                  (None, 128, 128, 64)      0         \n",
      "_________________________________________________________________\n",
      "batch_normalization_2 (Batch (None, 128, 128, 64)      256       \n",
      "_________________________________________________________________\n",
      "conv2d_3 (Conv2D)            (None, 128, 128, 64)      36928     \n",
      "_________________________________________________________________\n",
      "average_pooling2d_2 (Average (None, 64, 64, 64)        0         \n",
      "_________________________________________________________________\n",
      "gaussian_dropout_2 (Gaussian (None, 64, 64, 64)        0         \n",
      "_________________________________________________________________\n",
      "elu_2 (ELU)                  (None, 64, 64, 64)        0         \n",
      "_________________________________________________________________\n",
      "conv2d_4 (Conv2D)            (None, 64, 64, 193)       111361    \n",
      "_________________________________________________________________\n",
      "global_average_pooling2d_1 ( (None, 193)               0         \n",
      "_________________________________________________________________\n",
      "activation_1 (Activation)    (None, 193)               0         \n",
      "=================================================================\n",
      "Total params: 154,449\n",
      "Trainable params: 154,301\n",
      "Non-trainable params: 148\n",
      "_________________________________________________________________\n"
     ]
    }
   ],
   "source": [
    "model.summary()"
   ]
  },
  {
   "cell_type": "code",
   "execution_count": 10,
   "metadata": {},
   "outputs": [],
   "source": [
    "batch_size = 32"
   ]
  },
  {
   "cell_type": "code",
   "execution_count": 11,
   "metadata": {},
   "outputs": [],
   "source": [
    "batch_train = BcolzArrayIterator(data,labels,batch_size=batch_size)\n",
    "batch_valid = BcolzArrayIterator(data_valid,labels_valid,batch_size=batch_size)"
   ]
  },
  {
   "cell_type": "code",
   "execution_count": 12,
   "metadata": {},
   "outputs": [
    {
     "name": "stdout",
     "output_type": "stream",
     "text": [
      "Epoch 1/6\n",
      "999/998 [==============================] - 572s - loss: 3.7310 - acc: 0.2187 - val_loss: 3.1278 - val_acc: 0.3177\n",
      "Epoch 2/6\n",
      "999/998 [==============================] - 560s - loss: 2.4404 - acc: 0.4676 - val_loss: 2.1917 - val_acc: 0.5081\n",
      "Epoch 3/6\n",
      "999/998 [==============================] - 559s - loss: 1.8462 - acc: 0.5963 - val_loss: 1.8186 - val_acc: 0.5858\n",
      "Epoch 4/6\n",
      "999/998 [==============================] - 561s - loss: 1.5304 - acc: 0.6618 - val_loss: 1.5218 - val_acc: 0.6229\n",
      "Epoch 5/6\n",
      "999/998 [==============================] - 562s - loss: 1.3256 - acc: 0.7020 - val_loss: 1.2847 - val_acc: 0.6792\n",
      "Epoch 6/6\n",
      "999/998 [==============================] - 567s - loss: 1.1786 - acc: 0.7308 - val_loss: 1.3657 - val_acc: 0.6760\n"
     ]
    },
    {
     "data": {
      "text/plain": [
       "<keras.callbacks.History at 0x1a44872efd0>"
      ]
     },
     "execution_count": 12,
     "metadata": {},
     "output_type": "execute_result"
    }
   ],
   "source": [
    "model.fit_generator(batch_train,(len(data)/batch_size),validation_data=batch_valid,validation_steps=len(data_valid),epochs=6)"
   ]
  },
  {
   "cell_type": "code",
   "execution_count": 13,
   "metadata": {},
   "outputs": [],
   "source": [
    "model.save(model_path)"
   ]
  },
  {
   "cell_type": "code",
   "execution_count": null,
   "metadata": {},
   "outputs": [],
   "source": []
  }
 ],
 "metadata": {
  "kernelspec": {
   "display_name": "Python 3",
   "language": "python",
   "name": "python3"
  },
  "language_info": {
   "codemirror_mode": {
    "name": "ipython",
    "version": 3
   },
   "file_extension": ".py",
   "mimetype": "text/x-python",
   "name": "python",
   "nbconvert_exporter": "python",
   "pygments_lexer": "ipython3",
   "version": "3.6.3"
  }
 },
 "nbformat": 4,
 "nbformat_minor": 2
}
