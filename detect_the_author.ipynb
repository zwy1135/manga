{
 "cells": [
  {
   "cell_type": "code",
   "execution_count": null,
   "metadata": {
    "collapsed": true
   },
   "outputs": [],
   "source": [
    "%matplotlib inline"
   ]
  },
  {
   "cell_type": "code",
   "execution_count": null,
   "metadata": {
    "collapsed": true
   },
   "outputs": [],
   "source": [
    "import os\n",
    "import imp\n",
    "import pickle\n",
    "import bcolz as bc\n",
    "import numpy as np"
   ]
  },
  {
   "cell_type": "code",
   "execution_count": null,
   "metadata": {},
   "outputs": [],
   "source": [
    "import keras\n",
    "from keras.preprocessing.image import ImageDataGenerator as IDG\n",
    "\n",
    "from keras.layers import Input, Dense, Flatten, Conv2D, BatchNormalization, MaxPooling2D, ELU, Dropout, Add, GlobalMaxPooling2D, Activation\n",
    "from keras.applications.xception import Xception\n",
    "from keras.models import Model, load_model\n",
    "from keras import backend as K\n"
   ]
  },
  {
   "cell_type": "code",
   "execution_count": null,
   "metadata": {
    "collapsed": true
   },
   "outputs": [],
   "source": [
    "from config import config,bcolz_array_iterator\n",
    "imp.reload(config)\n",
    "imp.reload(bcolz_array_iterator)\n",
    "origin_dir = config.origin_dir\n",
    "group_dir = config.group_dir\n",
    "bcolz_dir = config.bcolz_dir\n",
    "config_dir = config.config_dir\n",
    "\n",
    "BcolzArrayIterator = bcolz_array_iterator.BcolzArrayIterator"
   ]
  },
  {
   "cell_type": "code",
   "execution_count": null,
   "metadata": {
    "collapsed": true
   },
   "outputs": [],
   "source": [
    "data = bc.carray(rootdir=os.path.join(bcolz_dir,\"data\"),mode=\"r\")\n",
    "labels = bc.carray(rootdir=os.path.join(bcolz_dir,\"labels\"),mode=\"r\")\n",
    "data_valid = bc.carray(rootdir=os.path.join(bcolz_dir,\"data_valid\"),mode=\"r\")\n",
    "labels_valid = bc.carray(rootdir=os.path.join(bcolz_dir,\"labels_valid\"),mode=\"r\")"
   ]
  },
  {
   "cell_type": "code",
   "execution_count": null,
   "metadata": {
    "collapsed": true
   },
   "outputs": [],
   "source": [
    "with open(os.path.join(bcolz_dir,\"label_dict.pickle\"),\"rb\") as f:\n",
    "    label_dict = pickle.load(f)"
   ]
  },
  {
   "cell_type": "code",
   "execution_count": null,
   "metadata": {
    "collapsed": true
   },
   "outputs": [],
   "source": []
  },
  {
   "cell_type": "markdown",
   "metadata": {},
   "source": [
    "from matplotlib import pyplot as plt"
   ]
  },
  {
   "cell_type": "markdown",
   "metadata": {},
   "source": [
    "a=data[12458][:]\n",
    "a=np.array(a,dtype=np.uint8)\n",
    "plt.figure(figsize=(10,10))\n",
    "plt.imshow(a)"
   ]
  },
  {
   "cell_type": "markdown",
   "metadata": {},
   "source": [
    "# buildmodel"
   ]
  },
  {
   "cell_type": "code",
   "execution_count": null,
   "metadata": {
    "collapsed": true
   },
   "outputs": [],
   "source": []
  },
  {
   "cell_type": "code",
   "execution_count": null,
   "metadata": {
    "collapsed": true
   },
   "outputs": [],
   "source": [
    "def conv_block(inx,iter_num):\n",
    "    x = BatchNormalization()(inx)\n",
    "    x = Conv2D(96,(3,3),padding=\"same\")(x)\n",
    "    x = MaxPooling2D()(x)\n",
    "    x = Dropout(0.2)(x)\n",
    "    x = ELU()(x)\n",
    "    \n",
    "    return x\n",
    "    "
   ]
  },
  {
   "cell_type": "code",
   "execution_count": null,
   "metadata": {
    "collapsed": true
   },
   "outputs": [],
   "source": [
    "model_path = os.path.join(config_dir,\"model.h5\")\n",
    "try:\n",
    "    model = load_model(model_path)\n",
    "except:\n",
    "    input_layer = Input(data.shape[1:])\n",
    "    #x = Xception(input_shape=(256,256,3),include_top=False,weights=None,pooling=\"avg\")(input_layer)\n",
    "    first_layer = Conv2D(20,(9,9),padding=\"same\")(input_layer)  #split channel\n",
    "\n",
    "    x = first_layer\n",
    "    for i in range(2):\n",
    "        x = conv_block(x,i)\n",
    "\n",
    "    x = Conv2D(len(label_dict),(3,3),padding=\"same\")(x)\n",
    "    x = GlobalMaxPooling2D()(x)\n",
    "    \n",
    "    output_layer = Activation(\"softmax\")(x)\n",
    "\n",
    "    model = Model(input_layer,outputs=output_layer)\n",
    "\n",
    "    model.compile(\"adam\",\"sparse_categorical_crossentropy\",metrics=[\"acc\"])"
   ]
  },
  {
   "cell_type": "code",
   "execution_count": null,
   "metadata": {},
   "outputs": [],
   "source": [
    "model.summary()"
   ]
  },
  {
   "cell_type": "code",
   "execution_count": null,
   "metadata": {
    "collapsed": true
   },
   "outputs": [],
   "source": [
    "batch_size = 8"
   ]
  },
  {
   "cell_type": "code",
   "execution_count": null,
   "metadata": {
    "collapsed": true
   },
   "outputs": [],
   "source": [
    "batch_train = BcolzArrayIterator(data,labels,batch_size=batch_size)\n",
    "batch_valid = BcolzArrayIterator(data_valid,labels_valid,batch_size=batch_size)"
   ]
  },
  {
   "cell_type": "code",
   "execution_count": null,
   "metadata": {},
   "outputs": [],
   "source": [
    "model.fit_generator(batch_train,(len(data)/batch_size),validation_data=batch_valid,validation_steps=len(data_valid),epochs=60)"
   ]
  },
  {
   "cell_type": "code",
   "execution_count": null,
   "metadata": {
    "collapsed": true
   },
   "outputs": [],
   "source": [
    "model.save(model_path)"
   ]
  },
  {
   "cell_type": "code",
   "execution_count": null,
   "metadata": {
    "scrolled": false
   },
   "outputs": [],
   "source": [
    "test_origin = data_valid[110]\n",
    "test = np.expand_dims(test_origin,-1)\n",
    "test = np.expand_dims(test,0)\n",
    "rslt = model.predict(test)\n",
    "indexes = np.argsort(rslt)[0,-10:]\n",
    "prob = rslt[0][indexes]\n",
    "name = [label_dict[index] for index in indexes]\n",
    "from matplotlib import pyplot as plt\n",
    "plt.figure(figsize=(10,10))\n",
    "plt.imshow(test_origin,\"gray\")\n",
    "name,prob"
   ]
  },
  {
   "cell_type": "code",
   "execution_count": null,
   "metadata": {},
   "outputs": [],
   "source": [
    "np.argsort(rslt)"
   ]
  },
  {
   "cell_type": "code",
   "execution_count": null,
   "metadata": {
    "collapsed": true
   },
   "outputs": [],
   "source": []
  }
 ],
 "metadata": {
  "kernelspec": {
   "display_name": "Python 3",
   "language": "python",
   "name": "python3"
  },
  "language_info": {
   "codemirror_mode": {
    "name": "ipython",
    "version": 3
   },
   "file_extension": ".py",
   "mimetype": "text/x-python",
   "name": "python",
   "nbconvert_exporter": "python",
   "pygments_lexer": "ipython3",
   "version": "3.6.2"
  }
 },
 "nbformat": 4,
 "nbformat_minor": 2
}
