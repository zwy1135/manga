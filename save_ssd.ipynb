{
 "cells": [
  {
   "cell_type": "code",
   "execution_count": null,
   "metadata": {},
   "outputs": [],
   "source": [
    "%matplotlib inline"
   ]
  },
  {
   "cell_type": "code",
   "execution_count": null,
   "metadata": {},
   "outputs": [],
   "source": [
    "import os\n",
    "import imp\n",
    "import bcolz as bc\n",
    "import numpy as np"
   ]
  },
  {
   "cell_type": "code",
   "execution_count": null,
   "metadata": {},
   "outputs": [],
   "source": [
    "import keras\n",
    "from keras.preprocessing.image import ImageDataGenerator as IDG\n"
   ]
  },
  {
   "cell_type": "code",
   "execution_count": null,
   "metadata": {},
   "outputs": [],
   "source": [
    "from config import config\n",
    "imp.reload(config)\n",
    "\n",
    "origin_dir = config.origin_dir\n",
    "group_dir = config.group_dir\n",
    "bcolz_dir = config.bcolz_dir"
   ]
  },
  {
   "cell_type": "code",
   "execution_count": null,
   "metadata": {},
   "outputs": [],
   "source": [
    "datagen = IDG(rotation_range=180,width_shift_range=0.1,height_shift_range=0.1,shear_range=0.1,zoom_range=0.1,fill_mode=\"reflect\")\n",
    "batch = datagen.flow_from_directory(group_dir,class_mode=\"categorical\",target_size=(256,256))\n",
    "batch.next()"
   ]
  },
  {
   "cell_type": "markdown",
   "metadata": {},
   "source": [
    "data = bc.carray([np.zeros((256,256,3))],rootdir=os.path.join(bcolz_dir,\"data\"),mode=\"w\")\n",
    "labels = bc.carray([np.zeros(193)],rootdir=os.path.join(bcolz_dir,\"labels\"),mode=\"w\")"
   ]
  },
  {
   "cell_type": "code",
   "execution_count": null,
   "metadata": {},
   "outputs": [],
   "source": [
    "data = bc.carray([np.zeros((256,256,3),dtype=np.uint8)],rootdir=os.path.join(bcolz_dir,\"data\"),mode=\"a\")\n",
    "labels = bc.carray([np.zeros(193,dtype=np.uint8)],rootdir=os.path.join(bcolz_dir,\"labels\"),mode=\"a\")"
   ]
  },
  {
   "cell_type": "code",
   "execution_count": null,
   "metadata": {
    "scrolled": true
   },
   "outputs": [],
   "source": [
    "for i in range(257):\n",
    "    batch_d,batch_l = batch.next()\n",
    "    print(i)\n",
    "    data.append(batch_d)\n",
    "    labels.append(batch_l)\n",
    "    \n",
    "data.flush()\n",
    "labels.flush()"
   ]
  },
  {
   "cell_type": "code",
   "execution_count": null,
   "metadata": {},
   "outputs": [],
   "source": [
    "data.shape,labels.shape"
   ]
  },
  {
   "cell_type": "code",
   "execution_count": null,
   "metadata": {},
   "outputs": [],
   "source": [
    "data_valid = bc.carray([np.zeros((256,256,3),dtype=np.uint8)],rootdir=os.path.join(bcolz_dir,\"data_valid\"),mode=\"a\")\n",
    "labels_valid = bc.carray([np.zeros(193,dtype=np.uint8)],rootdir=os.path.join(bcolz_dir,\"labels_valid\"),mode=\"a\")\n",
    "\n",
    "for i in range(10):\n",
    "    batch_d,batch_l = batch.next()\n",
    "    print(i)\n",
    "    data_valid.append(batch_d)\n",
    "    labels_valid.append(batch_l)\n",
    "    \n",
    "data_valid.flush()\n",
    "labels_valid.flush()"
   ]
  },
  {
   "cell_type": "code",
   "execution_count": null,
   "metadata": {},
   "outputs": [],
   "source": []
  }
 ],
 "metadata": {
  "kernelspec": {
   "display_name": "Python 3",
   "language": "python",
   "name": "python3"
  },
  "language_info": {
   "codemirror_mode": {
    "name": "ipython",
    "version": 3
   },
   "file_extension": ".py",
   "mimetype": "text/x-python",
   "name": "python",
   "nbconvert_exporter": "python",
   "pygments_lexer": "ipython3",
   "version": "3.6.3"
  }
 },
 "nbformat": 4,
 "nbformat_minor": 2
}
