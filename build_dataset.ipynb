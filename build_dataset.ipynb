{
 "cells": [
  {
   "cell_type": "code",
   "execution_count": null,
   "metadata": {},
   "outputs": [],
   "source": [
    "import re\n",
    "import os\n",
    "import shutil\n",
    "import imp"
   ]
  },
  {
   "cell_type": "code",
   "execution_count": null,
   "metadata": {},
   "outputs": [],
   "source": [
    "from config import config\n",
    "imp.reload(config)\n",
    "\n",
    "origin_dir = config.origin_dir\n",
    "group_dir = config.group_dir"
   ]
  },
  {
   "cell_type": "code",
   "execution_count": null,
   "metadata": {},
   "outputs": [],
   "source": [
    "pattern = re.compile(r\"(?:.*?\\[.*?(?:汉化|漢化|翻訳|临时).*?\\])?.*?(?P<author>\\[.*?\\])\")"
   ]
  },
  {
   "cell_type": "code",
   "execution_count": null,
   "metadata": {},
   "outputs": [],
   "source": [
    "def fix_same_file(filename,dstpath):\n",
    "    filepath = os.path.join(dstpath,filename)\n",
    "    if os.path.exists(filepath):\n",
    "        p,ext = os.path.splitext(filepath)\n",
    "        return p+\"_\"+ext\n",
    "    return filepath"
   ]
  },
  {
   "cell_type": "code",
   "execution_count": null,
   "metadata": {},
   "outputs": [],
   "source": [
    "def copy_file(f,dst_path):\n",
    "    if f.is_file():\n",
    "        shutil.copyfile(f.path,fix_same_file(f.name,dst_path))\n",
    "    elif f.is_dir():\n",
    "        files = os.scandir(f.path)\n",
    "        for new_f in files:\n",
    "            copy_file(new_f,dst_path)"
   ]
  },
  {
   "cell_type": "code",
   "execution_count": null,
   "metadata": {},
   "outputs": [],
   "source": [
    "def group_by_author(src_path,dst_path):\n",
    "    paths = os.scandir(src_path)\n",
    "\n",
    "    for path in paths:\n",
    "        print(\"handling path = %s\"%path.path)\n",
    "        files = os.scandir(path.path)\n",
    "        author = pattern.search(path.path).group(\"author\")\n",
    "        author_path = os.path.join(group_dir,author)\n",
    "        if not os.path.exists(author_path):\n",
    "            os.mkdir(author_path)\n",
    "        for f in files:\n",
    "            copy_file(f,author_path)"
   ]
  },
  {
   "cell_type": "code",
   "execution_count": null,
   "metadata": {},
   "outputs": [],
   "source": [
    "group_by_author(origin_dir,group_dir)"
   ]
  },
  {
   "cell_type": "code",
   "execution_count": null,
   "metadata": {},
   "outputs": [],
   "source": []
  }
 ],
 "metadata": {
  "kernelspec": {
   "display_name": "Python 3",
   "language": "python",
   "name": "python3"
  }
 },
 "nbformat": 4,
 "nbformat_minor": 2
}
