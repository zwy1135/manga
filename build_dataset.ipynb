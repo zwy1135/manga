{
 "cells": [
  {
   "cell_type": "code",
   "execution_count": null,
   "metadata": {},
   "outputs": [],
   "source": [
    "import re\n",
    "import os\n",
    "import shutil\n",
    "import imp"
   ]
  },
  {
   "cell_type": "code",
   "execution_count": null,
   "metadata": {},
   "outputs": [],
   "source": [
    "from config import config\n",
    "imp.reload(config)\n",
    "\n",
    "origin_dir = config.origin_dir\n",
    "group_dir = config.group_dir"
   ]
  },
  {
   "cell_type": "code",
   "execution_count": null,
   "metadata": {},
   "outputs": [],
   "source": [
    "pattern = re.compile(r\"\\[(.*?)\\]\")"
   ]
  },
  {
   "cell_type": "code",
   "execution_count": null,
   "metadata": {},
   "outputs": [],
   "source": [
    "def fix_same_file(filename,dstpath):\n",
    "    filepath = os.path.join(dstpath,filename)\n",
    "    if os.path.exists(filepath):\n",
    "        p,ext = os.path.splitext(filepath)\n",
    "        return p+\"_\"+ext\n",
    "    return filepath"
   ]
  },
  {
   "cell_type": "code",
   "execution_count": null,
   "metadata": {},
   "outputs": [],
   "source": [
    "paths = os.scandir(origin_dir)\n",
    "\n",
    "for path in paths:\n",
    "    files = os.scandir(path.path)\n",
    "    author = re.search(pattern,path.path).group()\n",
    "    author_path = os.path.join(group_dir,author)\n",
    "    if not os.path.exists(author_path):\n",
    "        os.mkdir(author_path)\n",
    "    for f in files:\n",
    "        shutil.copyfile(f.path,fix_same_file(f.name,author_path))\n",
    "        \n",
    "        "
   ]
  },
  {
   "cell_type": "code",
   "execution_count": null,
   "metadata": {},
   "outputs": [],
   "source": []
  }
 ],
 "metadata": {
  "kernelspec": {
   "display_name": "Python 3",
   "language": "python",
   "name": "python3"
  },
  "language_info": {
   "codemirror_mode": {
    "name": "ipython",
    "version": 3
   },
   "file_extension": ".py",
   "mimetype": "text/x-python",
   "name": "python",
   "nbconvert_exporter": "python",
   "pygments_lexer": "ipython3",
   "version": "3.6.3"
  }
 },
 "nbformat": 4,
 "nbformat_minor": 2
}
